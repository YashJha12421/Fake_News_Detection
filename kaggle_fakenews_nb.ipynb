{
 "cells": [
  {
   "cell_type": "code",
   "execution_count": null,
   "metadata": {
    "_cell_guid": "b1076dfc-b9ad-4769-8c92-a6c4dae69d19",
    "_uuid": "8f2839f25d086af736a60e9eeb907d3b93b6e0e5",
    "execution": {
     "iopub.execute_input": "2025-08-30T20:08:28.074651Z",
     "iopub.status.busy": "2025-08-30T20:08:28.074365Z",
     "iopub.status.idle": "2025-08-30T20:08:28.081580Z",
     "shell.execute_reply": "2025-08-30T20:08:28.080440Z",
     "shell.execute_reply.started": "2025-08-30T20:08:28.074628Z"
    },
    "trusted": true
   },
   "outputs": [
    {
     "name": "stdout",
     "output_type": "stream",
     "text": [
      "/kaggle/input/fake-and-real-news-dataset/True.csv\n",
      "/kaggle/input/fake-and-real-news-dataset/Fake.csv\n"
     ]
    }
   ],
   "source": [
    "\n",
    "import numpy as np \n",
    "import pandas as pd \n",
    "\n",
    "\n",
    "import os\n",
    "for dirname, _, filenames in os.walk('/kaggle/input'):\n",
    "    for filename in filenames:\n",
    "        print(os.path.join(dirname, filename))\n"
   ]
  },
  {
   "cell_type": "code",
   "execution_count": null,
   "metadata": {
    "execution": {
     "iopub.execute_input": "2025-08-30T20:08:28.083648Z",
     "iopub.status.busy": "2025-08-30T20:08:28.083329Z",
     "iopub.status.idle": "2025-08-30T20:08:29.360461Z",
     "shell.execute_reply": "2025-08-30T20:08:29.359686Z",
     "shell.execute_reply.started": "2025-08-30T20:08:28.083598Z"
    },
    "trusted": true
   },
   "outputs": [
    {
     "name": "stdout",
     "output_type": "stream",
     "text": [
      "                                               title  \\\n",
      "0  Ben Stein Calls Out 9th Circuit Court: Committ...   \n",
      "1  Trump drops Steve Bannon from National Securit...   \n",
      "2  Puerto Rico expects U.S. to lift Jones Act shi...   \n",
      "3   OOPS: Trump Just Accidentally Confirmed He Le...   \n",
      "4  Donald Trump heads for Scotland to reopen a go...   \n",
      "\n",
      "                                                text       subject  \\\n",
      "0  21st Century Wire says Ben Stein, reputable pr...       US_News   \n",
      "1  WASHINGTON (Reuters) - U.S. President Donald T...  politicsNews   \n",
      "2  (Reuters) - Puerto Rico Governor Ricardo Rosse...  politicsNews   \n",
      "3  On Monday, Donald Trump once again embarrassed...          News   \n",
      "4  GLASGOW, Scotland (Reuters) - Most U.S. presid...  politicsNews   \n",
      "\n",
      "                  date  label  \n",
      "0    February 13, 2017      0  \n",
      "1       April 5, 2017       1  \n",
      "2  September 27, 2017       1  \n",
      "3         May 22, 2017      0  \n",
      "4       June 24, 2016       1  \n"
     ]
    }
   ],
   "source": [
    "import pandas as pd\n",
    "\n",
    "fake = pd.read_csv(\"/kaggle/input/fake-and-real-news-dataset/Fake.csv\")\n",
    "true = pd.read_csv(\"/kaggle/input/fake-and-real-news-dataset/True.csv\")\n",
    "\n",
    "fake[\"label\"] = 0   # fake\n",
    "true[\"label\"] = 1   # true\n",
    "\n",
    "df = pd.concat([fake, true], ignore_index=True)\n",
    "df = df.sample(frac=1, random_state=42).reset_index(drop=True)  \n",
    "print(df.head())\n"
   ]
  },
  {
   "cell_type": "code",
   "execution_count": 22,
   "metadata": {
    "execution": {
     "iopub.execute_input": "2025-08-30T20:08:29.361629Z",
     "iopub.status.busy": "2025-08-30T20:08:29.361259Z",
     "iopub.status.idle": "2025-08-30T20:08:29.431920Z",
     "shell.execute_reply": "2025-08-30T20:08:29.431019Z",
     "shell.execute_reply.started": "2025-08-30T20:08:29.361582Z"
    },
    "trusted": true
   },
   "outputs": [],
   "source": [
    "df[\"content\"] = df[\"title\"] + \" \" + df[\"text\"]\n",
    "df = df.drop(columns=[\"title\", \"text\", \"date\"])\n"
   ]
  },
  {
   "cell_type": "code",
   "execution_count": 34,
   "metadata": {
    "execution": {
     "iopub.execute_input": "2025-08-30T21:02:14.120291Z",
     "iopub.status.busy": "2025-08-30T21:02:14.119949Z",
     "iopub.status.idle": "2025-08-30T21:03:04.203525Z",
     "shell.execute_reply": "2025-08-30T21:03:04.202445Z",
     "shell.execute_reply.started": "2025-08-30T21:02:14.120272Z"
    },
    "trusted": true
   },
   "outputs": [
    {
     "name": "stderr",
     "output_type": "stream",
     "text": [
      "[nltk_data] Downloading package stopwords to /usr/share/nltk_data...\n",
      "[nltk_data]   Package stopwords is already up-to-date!\n",
      "[nltk_data] Downloading package wordnet to /usr/share/nltk_data...\n",
      "[nltk_data]   Package wordnet is already up-to-date!\n"
     ]
    }
   ],
   "source": [
    "import re\n",
    "import nltk\n",
    "from nltk.corpus import stopwords\n",
    "from nltk.stem import WordNetLemmatizer\n",
    "\n",
    "nltk.download(\"stopwords\")\n",
    "nltk.download(\"wordnet\")\n",
    "\n",
    "stop_words = set(stopwords.words(\"english\"))\n",
    "lemmatizer = WordNetLemmatizer()\n",
    "class TextCleaner:\n",
    "    def __init__(self):\n",
    "        self.stop_words = set(stopwords.words(\"english\"))\n",
    "        self.lemmatizer = WordNetLemmatizer()\n",
    "\n",
    "    def clean(self, text):\n",
    "        text = text.lower()\n",
    "        text = re.sub(r\"[^a-zA-Z]\", \" \", text)\n",
    "        words = text.split()\n",
    "        words = [self.lemmatizer.lemmatize(w) for w in words if w not in self.stop_words]\n",
    "        return \" \".join(words)\n",
    "\n",
    "def clean_text(text):\n",
    "    text = text.lower()\n",
    "    text = re.sub(r\"[^a-zA-Z]\", \" \", text)\n",
    "    words = text.split()\n",
    "    words = [lemmatizer.lemmatize(w) for w in words if w not in stop_words]\n",
    "    return \" \".join(words)\n",
    "\n",
    "df[\"clean_content\"] = df[\"content\"].apply(clean_text)\n",
    "\n"
   ]
  },
  {
   "cell_type": "code",
   "execution_count": 35,
   "metadata": {
    "execution": {
     "iopub.execute_input": "2025-08-30T21:03:07.884379Z",
     "iopub.status.busy": "2025-08-30T21:03:07.884024Z",
     "iopub.status.idle": "2025-08-30T21:03:07.890209Z",
     "shell.execute_reply": "2025-08-30T21:03:07.889453Z",
     "shell.execute_reply.started": "2025-08-30T21:03:07.884355Z"
    },
    "trusted": true
   },
   "outputs": [],
   "source": [
    "\n",
    "cleaner = TextCleaner()\n",
    "\n",
    "with open(\"text_cleaner.pkl\", \"wb\") as f:\n",
    "    pickle.dump(cleaner, f)"
   ]
  },
  {
   "cell_type": "code",
   "execution_count": null,
   "metadata": {
    "execution": {
     "iopub.execute_input": "2025-08-30T20:09:17.750725Z",
     "iopub.status.busy": "2025-08-30T20:09:17.750466Z",
     "iopub.status.idle": "2025-08-30T20:09:24.855173Z",
     "shell.execute_reply": "2025-08-30T20:09:24.854128Z",
     "shell.execute_reply.started": "2025-08-30T20:09:17.750707Z"
    },
    "trusted": true
   },
   "outputs": [],
   "source": [
    "\n",
    "\n",
    "from sklearn.model_selection import train_test_split\n",
    "from sklearn.feature_extraction.text import TfidfVectorizer\n",
    "\n",
    "\n",
    "X_text = df['clean_content']\n",
    "y = df['label']\n",
    "\n",
    "X_train_text, X_test_text, y_train, y_test = train_test_split(\n",
    "    X_text, y, test_size=0.2, random_state=42\n",
    ")\n",
    "\n",
    "\n",
    "vectorizer = TfidfVectorizer(max_features=10000)\n",
    "\n",
    "\n",
    "X_train = vectorizer.fit_transform(X_train_text)\n",
    "\n",
    "X_test = vectorizer.transform(X_test_text)\n",
    "\n",
    "\n"
   ]
  },
  {
   "cell_type": "code",
   "execution_count": 25,
   "metadata": {
    "execution": {
     "iopub.execute_input": "2025-08-30T20:09:24.856288Z",
     "iopub.status.busy": "2025-08-30T20:09:24.856056Z",
     "iopub.status.idle": "2025-08-30T20:09:28.095772Z",
     "shell.execute_reply": "2025-08-30T20:09:28.094625Z",
     "shell.execute_reply.started": "2025-08-30T20:09:24.856272Z"
    },
    "trusted": true
   },
   "outputs": [
    {
     "name": "stdout",
     "output_type": "stream",
     "text": [
      "Accuracy: 0.9870824053452116\n",
      "              precision    recall  f1-score   support\n",
      "\n",
      "           0       0.99      0.98      0.99      4710\n",
      "           1       0.98      0.99      0.99      4270\n",
      "\n",
      "    accuracy                           0.99      8980\n",
      "   macro avg       0.99      0.99      0.99      8980\n",
      "weighted avg       0.99      0.99      0.99      8980\n",
      "\n"
     ]
    }
   ],
   "source": [
    "\n",
    "\n",
    "model = LogisticRegression(max_iter=500)\n",
    "model.fit(X_train, y_train)\n",
    "\n",
    "y_pred = model.predict(X_test)\n",
    "\n",
    "print(\"Accuracy:\", accuracy_score(y_test, y_pred))\n",
    "print(classification_report(y_test, y_pred))\n"
   ]
  },
  {
   "cell_type": "code",
   "execution_count": 26,
   "metadata": {
    "execution": {
     "iopub.execute_input": "2025-08-30T20:09:28.096910Z",
     "iopub.status.busy": "2025-08-30T20:09:28.096583Z",
     "iopub.status.idle": "2025-08-30T20:09:28.144332Z",
     "shell.execute_reply": "2025-08-30T20:09:28.143064Z",
     "shell.execute_reply.started": "2025-08-30T20:09:28.096885Z"
    },
    "trusted": true
   },
   "outputs": [
    {
     "name": "stdout",
     "output_type": "stream",
     "text": [
      "              precision    recall  f1-score   support\n",
      "\n",
      "           0       0.99      0.98      0.99      4710\n",
      "           1       0.98      0.99      0.99      4270\n",
      "\n",
      "    accuracy                           0.99      8980\n",
      "   macro avg       0.99      0.99      0.99      8980\n",
      "weighted avg       0.99      0.99      0.99      8980\n",
      "\n",
      "[[4639   71]\n",
      " [  45 4225]]\n"
     ]
    }
   ],
   "source": [
    "from sklearn.metrics import confusion_matrix, classification_report\n",
    "\n",
    "print(classification_report(y_test, y_pred))\n",
    "print(confusion_matrix(y_test, y_pred))\n"
   ]
  },
  {
   "cell_type": "code",
   "execution_count": 27,
   "metadata": {
    "execution": {
     "iopub.execute_input": "2025-08-30T20:09:28.147714Z",
     "iopub.status.busy": "2025-08-30T20:09:28.145920Z",
     "iopub.status.idle": "2025-08-30T20:09:28.180024Z",
     "shell.execute_reply": "2025-08-30T20:09:28.179151Z",
     "shell.execute_reply.started": "2025-08-30T20:09:28.147677Z"
    },
    "trusted": true
   },
   "outputs": [
    {
     "name": "stdout",
     "output_type": "stream",
     "text": [
      "Top words for FAKE: ['via' 'video' 'image' 'read' 'gop' 'hillary' 'wire' 'featured' 'mr'\n",
      " 'watch' 'com' 'even' 'america' 'american' 'obama' 'breaking' 'like'\n",
      " 'getty' 'sen' 'pic']\n",
      "Top words for REAL: ['rival' 'comment' 'london' 'statement' 'edt' 'representative'\n",
      " 'republican' 'spokesman' 'democratic' 'presidential' 'minister' 'monday'\n",
      " 'nov' 'friday' 'thursday' 'tuesday' 'wednesday' 'washington' 'said'\n",
      " 'reuters']\n"
     ]
    }
   ],
   "source": [
    "import numpy as np\n",
    "\n",
    "feature_names = vectorizer.get_feature_names_out()\n",
    "coef = model.coef_[0]\n",
    "\n",
    "top_fake = np.argsort(coef)[:20]\n",
    "top_real = np.argsort(coef)[-20:]\n",
    "\n",
    "print(\"Top words for FAKE:\", feature_names[top_fake])\n",
    "print(\"Top words for REAL:\", feature_names[top_real])\n"
   ]
  },
  {
   "cell_type": "code",
   "execution_count": null,
   "metadata": {
    "execution": {
     "iopub.execute_input": "2025-08-30T20:09:28.181227Z",
     "iopub.status.busy": "2025-08-30T20:09:28.180950Z",
     "iopub.status.idle": "2025-08-30T20:10:20.605810Z",
     "shell.execute_reply": "2025-08-30T20:10:20.605093Z",
     "shell.execute_reply.started": "2025-08-30T20:09:28.181205Z"
    },
    "trusted": true
   },
   "outputs": [
    {
     "name": "stdout",
     "output_type": "stream",
     "text": [
      "Random Forest Accuracy: 0.9962138084632517\n",
      "              precision    recall  f1-score   support\n",
      "\n",
      "           0       1.00      1.00      1.00      4710\n",
      "           1       1.00      1.00      1.00      4270\n",
      "\n",
      "    accuracy                           1.00      8980\n",
      "   macro avg       1.00      1.00      1.00      8980\n",
      "weighted avg       1.00      1.00      1.00      8980\n",
      "\n"
     ]
    }
   ],
   "source": [
    "from sklearn.ensemble import RandomForestClassifier\n",
    "from sklearn.model_selection import train_test_split\n",
    "from sklearn.metrics import classification_report, accuracy_score\n",
    "\n",
    "\n",
    "\n",
    "\n",
    "rf = RandomForestClassifier(\n",
    "    n_estimators=200,       \n",
    "    max_depth=50,           \n",
    "    random_state=42,\n",
    "    n_jobs=-1               \n",
    ")\n",
    "\n",
    "rf.fit(X_train, y_train)\n",
    "y_pred_rf = rf.predict(X_test)\n",
    "\n",
    "print(\"Random Forest Accuracy:\", accuracy_score(y_test, y_pred_rf))\n",
    "print(classification_report(y_test, y_pred_rf))\n"
   ]
  },
  {
   "cell_type": "code",
   "execution_count": null,
   "metadata": {
    "execution": {
     "iopub.execute_input": "2025-08-30T20:10:20.606560Z",
     "iopub.status.busy": "2025-08-30T20:10:20.606377Z",
     "iopub.status.idle": "2025-08-30T20:11:53.609272Z",
     "shell.execute_reply": "2025-08-30T20:11:53.608489Z",
     "shell.execute_reply.started": "2025-08-30T20:10:20.606537Z"
    },
    "trusted": true
   },
   "outputs": [
    {
     "name": "stdout",
     "output_type": "stream",
     "text": [
      "XGBoost Accuracy: 0.9976614699331848\n",
      "              precision    recall  f1-score   support\n",
      "\n",
      "           0       1.00      1.00      1.00      4710\n",
      "           1       1.00      1.00      1.00      4270\n",
      "\n",
      "    accuracy                           1.00      8980\n",
      "   macro avg       1.00      1.00      1.00      8980\n",
      "weighted avg       1.00      1.00      1.00      8980\n",
      "\n"
     ]
    }
   ],
   "source": [
    "from xgboost import XGBClassifier\n",
    "\n",
    "\n",
    "xgb = XGBClassifier(\n",
    "    n_estimators=300,     \n",
    "    learning_rate=0.1,\n",
    "    max_depth=6,\n",
    "    subsample=0.8,\n",
    "    colsample_bytree=0.8,\n",
    "    random_state=42,\n",
    "    use_label_encoder=False,\n",
    "    eval_metric=\"logloss\" # avoids warning\n",
    ")\n",
    "\n",
    "xgb.fit(X_train, y_train)\n",
    "y_pred_xgb = xgb.predict(X_test)\n",
    "\n",
    "print(\"XGBoost Accuracy:\", accuracy_score(y_test, y_pred_xgb))\n",
    "print(classification_report(y_test, y_pred_xgb))\n"
   ]
  },
  {
   "cell_type": "code",
   "execution_count": null,
   "metadata": {
    "execution": {
     "iopub.execute_input": "2025-08-30T20:11:53.610401Z",
     "iopub.status.busy": "2025-08-30T20:11:53.610157Z",
     "iopub.status.idle": "2025-08-30T20:11:53.615591Z",
     "shell.execute_reply": "2025-08-30T20:11:53.614804Z",
     "shell.execute_reply.started": "2025-08-30T20:11:53.610382Z"
    },
    "trusted": true
   },
   "outputs": [],
   "source": [
    "\n",
    "import pickle\n",
    "\n",
    "\n",
    "with open(\"fake_news_model.pkl\", \"wb\") as f:\n",
    "    pickle.dump(model, f)\n",
    "\n",
    "\n"
   ]
  },
  {
   "cell_type": "code",
   "execution_count": 31,
   "metadata": {
    "execution": {
     "iopub.execute_input": "2025-08-30T20:11:53.616890Z",
     "iopub.status.busy": "2025-08-30T20:11:53.616539Z",
     "iopub.status.idle": "2025-08-30T20:11:53.694941Z",
     "shell.execute_reply": "2025-08-30T20:11:53.693809Z",
     "shell.execute_reply.started": "2025-08-30T20:11:53.616860Z"
    },
    "trusted": true
   },
   "outputs": [],
   "source": [
    "with open(\"vectorizer.pkl\", \"wb\") as f:\n",
    "    pickle.dump(vectorizer, f)"
   ]
  }
 ],
 "metadata": {
  "kaggle": {
   "accelerator": "none",
   "dataSources": [
    {
     "datasetId": 4831777,
     "sourceId": 8165591,
     "sourceType": "datasetVersion"
    }
   ],
   "dockerImageVersionId": 31089,
   "isGpuEnabled": false,
   "isInternetEnabled": true,
   "language": "python",
   "sourceType": "notebook"
  },
  "kernelspec": {
   "display_name": "Python 3",
   "language": "python",
   "name": "python3"
  },
  "language_info": {
   "codemirror_mode": {
    "name": "ipython",
    "version": 3
   },
   "file_extension": ".py",
   "mimetype": "text/x-python",
   "name": "python",
   "nbconvert_exporter": "python",
   "pygments_lexer": "ipython3",
   "version": "3.11.13"
  }
 },
 "nbformat": 4,
 "nbformat_minor": 4
}
